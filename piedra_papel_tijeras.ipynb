{
  "nbformat": 4,
  "nbformat_minor": 0,
  "metadata": {
    "colab": {
      "provenance": [],
      "authorship_tag": "ABX9TyMGx+lJ0Raqh1hXjnZDSzxn",
      "include_colab_link": true
    },
    "kernelspec": {
      "name": "python3",
      "display_name": "Python 3"
    },
    "language_info": {
      "name": "python"
    }
  },
  "cells": [
    {
      "cell_type": "markdown",
      "metadata": {
        "id": "view-in-github",
        "colab_type": "text"
      },
      "source": [
        "<a href=\"https://colab.research.google.com/github/AmilkarAlan/AmilkarAlan/blob/main/piedra_papel_tijeras.ipynb\" target=\"_parent\"><img src=\"https://colab.research.google.com/assets/colab-badge.svg\" alt=\"Open In Colab\"/></a>"
      ]
    },
    {
      "cell_type": "code",
      "execution_count": 114,
      "metadata": {
        "id": "-9lEWzFqKhuc"
      },
      "outputs": [],
      "source": [
        "import random\n"
      ]
    },
    {
      "cell_type": "code",
      "source": [
        "opciones = ['Piedra', 'Papel', 'Tijera']\n",
        "puntos_usuario = 0\n",
        "puntos_pc = 0\n",
        "ronda = 1\n",
        "victoria_pc = ('La computadora gana la ronda')\n",
        "victoria_usuario = ('El jugador gana la ronda')\n",
        "\n",
        "print('---' * 3, 'Juega 3 rondas', '---' * 3, '\\n' )\n",
        "\n",
        "while ronda < 4:\n",
        "  print(f'Ronda # {ronda}\\n')\n",
        "  if ronda == 3:\n",
        "    print('¡Ronda final!\\n')\n",
        "  usuario_select = (input(f'Escribe una opcion de entre: {opciones} ')).title()\n",
        "  pc_select = random.choice(opciones)\n",
        "  if usuario_select in opciones:\n",
        "    print(f'Seleccionaste: {usuario_select} ')\n",
        "    print(f'La computadora selecciono: {pc_select}\\n')\n",
        "  else:\n",
        "    print('No es valida tu elección, intentalo de nuevo.')\n",
        "    continue\n",
        "  index_usuario = opciones.index(usuario_select)\n",
        "  index_pc = opciones.index(pc_select)\n",
        "  if index_usuario == index_pc:\n",
        "    print('Empate\\n')\n",
        "    print('...' * 10)\n",
        "    print('')\n",
        "    continue\n",
        "  elif (index_usuario == 0 and index_pc == 2) or (index_usuario == 1 and index_pc == 0) or (index_usuario == 2 and index_pc == 1):\n",
        "    print(f'{usuario_select} gana a {pc_select}')\n",
        "    print(f'{victoria_usuario}')\n",
        "    puntos_usuario += 1\n",
        "\n",
        "  elif (index_usuario == 0 and index_pc == 1) or (index_usuario == 1 and index_pc == 2) or (index_usuario == 2 and index_pc == 0):\n",
        "    print(f'{pc_select} gana a {usuario_select}')\n",
        "    print(f'{victoria_pc}')\n",
        "    puntos_pc += 1\n",
        "  ronda += 1\n",
        "  print(f'Puntos jugador: {puntos_usuario}. Puntos computadora:  {puntos_pc}\\n')\n",
        "  print('...' * 10, '\\n')  \n",
        "  if puntos_pc == 2 or puntos_usuario == 2:\n",
        "    break\n",
        "if puntos_usuario < puntos_pc:\n",
        "  print('Derrota')\n",
        "else:\n",
        "  print('¡Victoria!')\n"
      ],
      "metadata": {
        "id": "-mK-kUqwKwfW"
      },
      "execution_count": null,
      "outputs": []
    },
    {
      "cell_type": "markdown",
      "source": [
        "\n",
        "Importamos las librerias\n",
        "```\n",
        "import random\n",
        "```\n",
        "\n",
        "\n",
        "\n",
        "Declaramos algunas variables y la lista con las opciones.\n",
        "```\n",
        "opciones = ['Piedra', 'Papel', 'Tijera']\n",
        "puntos_usuario = 0\n",
        "puntos_pc = 0\n",
        "ronda = 1\n",
        "victoria_pc = ('La computadora gana la ronda')\n",
        "victoria_usuario = ('El jugador gana la ronda')\n",
        "```\n",
        "\n",
        "\n",
        "\n",
        "\n",
        "Imprimimos el titulo.\n",
        "```\n",
        "print('---' * 3, 'Juega 3 rondas', '---' * 3, '\\n' )\n",
        "```\n",
        "Mediante el ciclo while y la anidacion de ciclos declaramos las condiciones de victoria por ronda\n",
        "```\n",
        "while ronda < 4:\n",
        "  print(f'Ronda # {ronda}\\n')\n",
        "  if ronda == 3:\n",
        "    print('¡Ronda final!\\n')\n",
        "  usuario_select = (input(f'Escribe una opcion de entre: {opciones} ')).title()\n",
        "  pc_select = random.choice(opciones)\n",
        "  if usuario_select in opciones:\n",
        "    print(f'Seleccionaste: {usuario_select} ')\n",
        "    print(f'La computadora selecciono: {pc_select}\\n')\n",
        "  else:\n",
        "    print('No es valida tu elección, intentalo de nuevo.')\n",
        "    continue\n",
        "```\n",
        "Obtenemos los indices de las selecciones para que asi sea mas facil compararlos.\n",
        "```\n",
        "  index_usuario = opciones.index(usuario_select)\n",
        "  index_pc = opciones.index(pc_select)\n",
        "  if index_usuario == index_pc:\n",
        "    print('Empate\\n')\n",
        "    print('...' * 10)\n",
        "    print('')\n",
        "    continue\n",
        "  elif (index_usuario == 0 and index_pc == 2) or (index_usuario == 1 and index_pc == 0) or (index_usuario == 2 and index_pc == 1):\n",
        "    print(f'{usuario_select} gana a {pc_select}')\n",
        "    print(f'{victoria_usuario}')\n",
        "    puntos_usuario += 1\n",
        "\n",
        "  elif (index_usuario == 0 and index_pc == 1) or (index_usuario == 1 and index_pc == 2) or (index_usuario == 2 and index_pc == 0):\n",
        "    print(f'{pc_select} gana a {usuario_select}')\n",
        "    print(f'{victoria_pc}')\n",
        "    puntos_pc += 1\n",
        "  ronda += 1\n",
        "  print(f'Puntos jugador: {puntos_usuario}. Puntos computadora:  {puntos_pc}\\n')\n",
        "  print('...' * 10, '\\n')  \n",
        "```\n",
        "Declaramos las condiciones de victoria del juego\n",
        "```\n",
        "  if puntos_pc == 2 or puntos_usuario == 2:\n",
        "    break\n",
        "if puntos_usuario < puntos_pc:\n",
        "  print('Derrota')\n",
        "else:\n",
        "  print('¡Victoria!')\n",
        "```\n"
      ],
      "metadata": {
        "id": "62GnbRDQXYth"
      }
    }
  ]
}